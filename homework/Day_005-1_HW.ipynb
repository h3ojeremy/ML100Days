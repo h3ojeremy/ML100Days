{
 "cells": [
  {
   "cell_type": "markdown",
   "metadata": {},
   "source": [
    "# [作業目標]\n",
    "- 利用範例的創建方式, 創建一組資料, 並練習如何取出最大值"
   ]
  },
  {
   "cell_type": "markdown",
   "metadata": {},
   "source": [
    "# [作業重點]\n",
    "- 練習創立 DataFrame (In[2])\n",
    "- 如何取出口數最多的國家 (In[3], Out[3])"
   ]
  },
  {
   "cell_type": "markdown",
   "metadata": {},
   "source": [
    "## 練習時間\n",
    "在小量的資料上，我們用眼睛就可以看得出來程式碼是否有跑出我們理想中的結果\n",
    "\n",
    "請嘗試想像一個你需要的資料結構 (裡面的值可以是隨機的)，然後用上述的方法把它變成 pandas DataFrame\n",
    "\n",
    "#### Ex: 想像一個 dataframe 有兩個欄位，一個是國家，一個是人口，求人口數最多的國家\n",
    "\n",
    "### Hints: [隨機產生數值](https://blog.csdn.net/christianashannon/article/details/78867204)"
   ]
  },
  {
   "cell_type": "code",
   "execution_count": 3,
   "metadata": {},
   "outputs": [],
   "source": [
    "import pandas as pd\n",
    "import numpy as np"
   ]
  },
  {
   "cell_type": "code",
   "execution_count": null,
   "metadata": {},
   "outputs": [],
   "source": []
  },
  {
   "cell_type": "code",
   "execution_count": 5,
   "metadata": {},
   "outputs": [
    {
     "name": "stdout",
     "output_type": "stream",
     "text": [
      "    國家    人口\n",
      "0  USA  5000\n"
     ]
    }
   ],
   "source": [
    "import random\n",
    "list1 =[\"Taiwan\", \"USA\", \"Kingdom\", \"Singapore\", \"China\", \"Thailand\"]\n",
    "list2 =[20000, 5000, 1000, 7000, 60000, 80000]\n",
    "a = random.choice(list1)\n",
    "b = random.choice(list2)\n",
    "data = {'國家': [a],\n",
    "        '人口': [b]}\n",
    "data1 = pd.DataFrame(data)\n",
    "\n",
    "print(data1)"
   ]
  },
  {
   "cell_type": "code",
   "execution_count": null,
   "metadata": {},
   "outputs": [],
   "source": []
  }
 ],
 "metadata": {
  "kernelspec": {
   "display_name": "Python 3",
   "language": "python",
   "name": "python3"
  },
  "language_info": {
   "codemirror_mode": {
    "name": "ipython",
    "version": 3
   },
   "file_extension": ".py",
   "mimetype": "text/x-python",
   "name": "python",
   "nbconvert_exporter": "python",
   "pygments_lexer": "ipython3",
   "version": "3.7.6"
  }
 },
 "nbformat": 4,
 "nbformat_minor": 4
}
