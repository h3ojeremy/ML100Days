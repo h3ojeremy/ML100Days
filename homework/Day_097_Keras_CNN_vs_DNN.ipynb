{
 "cells": [
  {
   "cell_type": "code",
   "execution_count": 9,
   "metadata": {},
   "outputs": [],
   "source": [
    "import keras\n",
    "from keras.datasets import cifar10\n",
    "from keras.preprocessing.image import ImageDataGenerator\n",
    "from keras.models import Sequential\n",
    "from keras.layers import Dense, Dropout, Activation, Flatten\n",
    "from keras.layers import Conv2D, MaxPooling2D\n",
    "from keras.optimizers import RMSprop, Adam\n",
    "import os"
   ]
  },
  {
   "cell_type": "code",
   "execution_count": 2,
   "metadata": {},
   "outputs": [
    {
     "name": "stdout",
     "output_type": "stream",
     "text": [
      "x_train shape: (50000, 32, 32, 3)\n",
      "50000 train samples\n",
      "10000 test samples\n"
     ]
    }
   ],
   "source": [
    "batch_size = 128 # batch 的大小，如果出現 OOM error，請降低這個值\n",
    "num_classes = 10 # 類別的數量，Cifar 10 共有 10 個類別\n",
    "epochs = 10 # 訓練的 epochs 數量\n",
    "\n",
    "# 讀取資料並檢視\n",
    "(x_train, y_train), (x_test, y_test) = cifar10.load_data()\n",
    "print('x_train shape:', x_train.shape)\n",
    "print(x_train.shape[0], 'train samples')\n",
    "print(x_test.shape[0], 'test samples')\n",
    "\n",
    "# 對 label 進行 one-hot encoding (y_trian 原本是純數字)\n",
    "y_train = keras.utils.to_categorical(y_train, num_classes)\n",
    "y_test = keras.utils.to_categorical(y_test, num_classes)"
   ]
  },
  {
   "cell_type": "markdown",
   "metadata": {},
   "source": [
    "## 首先我們使用一般的 DNN (MLP) 來訓練\n",
    "由於 DNN 只能輸入一維的資料，我們要先將影像進行攤平，若 (50000, 32, 32, 3) 的影像，攤平後會變成 (50000, 32*32*3) = (50000, 3072)"
   ]
  },
  {
   "cell_type": "code",
   "execution_count": 3,
   "metadata": {},
   "outputs": [
    {
     "name": "stdout",
     "output_type": "stream",
     "text": [
      "50000 train samples\n",
      "10000 test samples\n"
     ]
    }
   ],
   "source": [
    "# 將資料攤平成一維資料\n",
    "x_train = x_train.reshape(50000, 3072) \n",
    "x_test = x_test.reshape(10000, 3072)\n",
    "\n",
    "# 將資料變為 float32 並標準化\n",
    "x_train = x_train.astype('float32')\n",
    "x_test = x_test.astype('float32')\n",
    "x_train /= 255\n",
    "x_test /= 255\n",
    "print(x_train.shape[0], 'train samples')\n",
    "print(x_test.shape[0], 'test samples')"
   ]
  },
  {
   "cell_type": "code",
   "execution_count": 4,
   "metadata": {},
   "outputs": [
    {
     "name": "stdout",
     "output_type": "stream",
     "text": [
      "Model: \"sequential\"\n",
      "_________________________________________________________________\n",
      "Layer (type)                 Output Shape              Param #   \n",
      "=================================================================\n",
      "dense (Dense)                (None, 512)               1573376   \n",
      "_________________________________________________________________\n",
      "dropout (Dropout)            (None, 512)               0         \n",
      "_________________________________________________________________\n",
      "dense_1 (Dense)              (None, 512)               262656    \n",
      "_________________________________________________________________\n",
      "dropout_1 (Dropout)          (None, 512)               0         \n",
      "_________________________________________________________________\n",
      "dense_2 (Dense)              (None, 10)                5130      \n",
      "=================================================================\n",
      "Total params: 1,841,162\n",
      "Trainable params: 1,841,162\n",
      "Non-trainable params: 0\n",
      "_________________________________________________________________\n",
      "Epoch 1/10\n",
      "391/391 [==============================] - 16s 42ms/step - loss: 2.1439 - accuracy: 0.2472 - val_loss: 1.8111 - val_accuracy: 0.3586\n",
      "Epoch 2/10\n",
      "391/391 [==============================] - 17s 43ms/step - loss: 1.8578 - accuracy: 0.3280 - val_loss: 1.7361 - val_accuracy: 0.3776\n",
      "Epoch 3/10\n",
      "391/391 [==============================] - 16s 42ms/step - loss: 1.7837 - accuracy: 0.3571 - val_loss: 1.7121 - val_accuracy: 0.3826\n",
      "Epoch 4/10\n",
      "391/391 [==============================] - 16s 42ms/step - loss: 1.7316 - accuracy: 0.3813 - val_loss: 1.6546 - val_accuracy: 0.4180\n",
      "Epoch 5/10\n",
      "391/391 [==============================] - 17s 43ms/step - loss: 1.6940 - accuracy: 0.3911 - val_loss: 1.6308 - val_accuracy: 0.4109\n",
      "Epoch 6/10\n",
      "391/391 [==============================] - 17s 43ms/step - loss: 1.6606 - accuracy: 0.4031 - val_loss: 1.5782 - val_accuracy: 0.4384\n",
      "Epoch 7/10\n",
      "391/391 [==============================] - 23s 60ms/step - loss: 1.6402 - accuracy: 0.4123 - val_loss: 1.5699 - val_accuracy: 0.4493\n",
      "Epoch 8/10\n",
      "391/391 [==============================] - 23s 58ms/step - loss: 1.6172 - accuracy: 0.4218 - val_loss: 1.5768 - val_accuracy: 0.4466\n",
      "Epoch 9/10\n",
      "391/391 [==============================] - 19s 49ms/step - loss: 1.6063 - accuracy: 0.4250 - val_loss: 1.5323 - val_accuracy: 0.4524\n",
      "Epoch 10/10\n",
      "391/391 [==============================] - 18s 45ms/step - loss: 1.5917 - accuracy: 0.4306 - val_loss: 1.5471 - val_accuracy: 0.4536\n",
      "Test loss: 1.5470945835113525\n",
      "Test accuracy: 0.4535999894142151\n"
     ]
    }
   ],
   "source": [
    "model = Sequential()\n",
    "model.add(Dense(512, activation='relu', input_shape=(3072,)))\n",
    "model.add(Dropout(0.2))\n",
    "model.add(Dense(512, activation='relu'))\n",
    "model.add(Dropout(0.2))\n",
    "model.add(Dense(num_classes, activation='softmax'))\n",
    "\n",
    "model.summary()\n",
    "\n",
    "model.compile(loss='categorical_crossentropy',\n",
    "              optimizer=RMSprop(),\n",
    "              metrics=['accuracy'])\n",
    "\n",
    "history = model.fit(x_train, y_train,\n",
    "                    batch_size=batch_size,\n",
    "                    epochs=epochs,\n",
    "                    verbose=1,\n",
    "                    validation_data=(x_test, y_test))\n",
    "score = model.evaluate(x_test, y_test, verbose=0)\n",
    "print('Test loss:', score[0])\n",
    "print('Test accuracy:', score[1])"
   ]
  },
  {
   "cell_type": "markdown",
   "metadata": {},
   "source": [
    "## 接下來我們使用 CNN 來訓練神經網路\n",
    "CNN 的原理非常適合處理影像類的資料，就讓我們來看看，同樣的訓練條件，CNN 是否顯著優於 DNN 呢?"
   ]
  },
  {
   "cell_type": "code",
   "execution_count": 5,
   "metadata": {},
   "outputs": [
    {
     "name": "stdout",
     "output_type": "stream",
     "text": [
      "x_train shape: (50000, 32, 32, 3)\n",
      "50000 train samples\n",
      "10000 test samples\n"
     ]
    }
   ],
   "source": [
    "(x_train, y_train), (x_test, y_test) = cifar10.load_data()\n",
    "print('x_train shape:', x_train.shape)\n",
    "print(x_train.shape[0], 'train samples')\n",
    "print(x_test.shape[0], 'test samples')\n",
    "x_train = x_train.astype('float32')\n",
    "x_test = x_test.astype('float32')\n",
    "x_train /= 255\n",
    "x_test /= 255\n",
    "\n",
    "# Convert class vectors to binary class matrices.\n",
    "y_train = keras.utils.to_categorical(y_train, num_classes)\n",
    "y_test = keras.utils.to_categorical(y_test, num_classes)"
   ]
  },
  {
   "cell_type": "code",
   "execution_count": 6,
   "metadata": {},
   "outputs": [
    {
     "name": "stdout",
     "output_type": "stream",
     "text": [
      "Model: \"sequential_1\"\n",
      "_________________________________________________________________\n",
      "Layer (type)                 Output Shape              Param #   \n",
      "=================================================================\n",
      "conv2d (Conv2D)              (None, 32, 32, 32)        896       \n",
      "_________________________________________________________________\n",
      "activation (Activation)      (None, 32, 32, 32)        0         \n",
      "_________________________________________________________________\n",
      "conv2d_1 (Conv2D)            (None, 30, 30, 32)        9248      \n",
      "_________________________________________________________________\n",
      "activation_1 (Activation)    (None, 30, 30, 32)        0         \n",
      "_________________________________________________________________\n",
      "max_pooling2d (MaxPooling2D) (None, 15, 15, 32)        0         \n",
      "_________________________________________________________________\n",
      "dropout_2 (Dropout)          (None, 15, 15, 32)        0         \n",
      "_________________________________________________________________\n",
      "conv2d_2 (Conv2D)            (None, 15, 15, 64)        18496     \n",
      "_________________________________________________________________\n",
      "activation_2 (Activation)    (None, 15, 15, 64)        0         \n",
      "_________________________________________________________________\n",
      "conv2d_3 (Conv2D)            (None, 13, 13, 64)        36928     \n",
      "_________________________________________________________________\n",
      "activation_3 (Activation)    (None, 13, 13, 64)        0         \n",
      "_________________________________________________________________\n",
      "max_pooling2d_1 (MaxPooling2 (None, 6, 6, 64)          0         \n",
      "_________________________________________________________________\n",
      "dropout_3 (Dropout)          (None, 6, 6, 64)          0         \n",
      "_________________________________________________________________\n",
      "flatten (Flatten)            (None, 2304)              0         \n",
      "_________________________________________________________________\n",
      "dense_3 (Dense)              (None, 512)               1180160   \n",
      "_________________________________________________________________\n",
      "activation_4 (Activation)    (None, 512)               0         \n",
      "_________________________________________________________________\n",
      "dropout_4 (Dropout)          (None, 512)               0         \n",
      "_________________________________________________________________\n",
      "dense_4 (Dense)              (None, 10)                5130      \n",
      "_________________________________________________________________\n",
      "activation_5 (Activation)    (None, 10)                0         \n",
      "=================================================================\n",
      "Total params: 1,250,858\n",
      "Trainable params: 1,250,858\n",
      "Non-trainable params: 0\n",
      "_________________________________________________________________\n",
      "Epoch 1/10\n",
      "391/391 [==============================] - 173s 443ms/step - loss: 1.7301 - accuracy: 0.3763 - val_loss: 2.0731 - val_accuracy: 0.3253\n",
      "Epoch 2/10\n",
      "391/391 [==============================] - 163s 416ms/step - loss: 1.3009 - accuracy: 0.5389 - val_loss: 1.3756 - val_accuracy: 0.5263\n",
      "Epoch 3/10\n",
      "391/391 [==============================] - 162s 415ms/step - loss: 1.1030 - accuracy: 0.6125 - val_loss: 1.0111 - val_accuracy: 0.6550\n",
      "Epoch 4/10\n",
      "391/391 [==============================] - 162s 413ms/step - loss: 0.9740 - accuracy: 0.6591 - val_loss: 0.9410 - val_accuracy: 0.6770\n",
      "Epoch 5/10\n",
      "391/391 [==============================] - 164s 418ms/step - loss: 0.8883 - accuracy: 0.6906 - val_loss: 0.7817 - val_accuracy: 0.7287\n",
      "Epoch 6/10\n",
      "391/391 [==============================] - 162s 414ms/step - loss: 0.8222 - accuracy: 0.7135 - val_loss: 0.7911 - val_accuracy: 0.7253\n",
      "Epoch 7/10\n",
      "391/391 [==============================] - 161s 412ms/step - loss: 0.7627 - accuracy: 0.7365 - val_loss: 0.7579 - val_accuracy: 0.7420\n",
      "Epoch 8/10\n",
      "391/391 [==============================] - 161s 412ms/step - loss: 0.7224 - accuracy: 0.7493 - val_loss: 0.7487 - val_accuracy: 0.7448\n",
      "Epoch 9/10\n",
      "391/391 [==============================] - 161s 413ms/step - loss: 0.6851 - accuracy: 0.7620 - val_loss: 0.6836 - val_accuracy: 0.7672\n",
      "Epoch 10/10\n",
      "391/391 [==============================] - 168s 429ms/step - loss: 0.6623 - accuracy: 0.7713 - val_loss: 0.7112 - val_accuracy: 0.7603\n",
      "Test loss: 0.7112219333648682\n",
      "Test accuracy: 0.7602999806404114\n"
     ]
    }
   ],
   "source": [
    "model = Sequential()\n",
    "model.add(Conv2D(32, (3, 3), padding='same',\n",
    "                 input_shape=x_train.shape[1:]))\n",
    "model.add(Activation('relu'))\n",
    "model.add(Conv2D(32, (3, 3)))\n",
    "model.add(Activation('relu'))\n",
    "model.add(MaxPooling2D(pool_size=(2, 2)))\n",
    "model.add(Dropout(0.25))\n",
    "\n",
    "model.add(Conv2D(64, (3, 3), padding='same'))\n",
    "model.add(Activation('relu'))\n",
    "model.add(Conv2D(64, (3, 3)))\n",
    "model.add(Activation('relu'))\n",
    "model.add(MaxPooling2D(pool_size=(2, 2)))\n",
    "model.add(Dropout(0.25))\n",
    "\n",
    "model.add(Flatten())\n",
    "model.add(Dense(512))\n",
    "model.add(Activation('relu'))\n",
    "model.add(Dropout(0.5))\n",
    "model.add(Dense(num_classes))\n",
    "model.add(Activation('softmax'))\n",
    "model.summary()\n",
    "\n",
    "model.compile(loss='categorical_crossentropy',\n",
    "              optimizer=RMSprop(),\n",
    "              metrics=['accuracy'])\n",
    "\n",
    "history = model.fit(x_train, y_train,\n",
    "                    batch_size=batch_size,\n",
    "                    epochs=epochs,\n",
    "                    verbose=1,\n",
    "                    validation_data=(x_test, y_test))\n",
    "score = model.evaluate(x_test, y_test, verbose=0)\n",
    "print('Test loss:', score[0])\n",
    "print('Test accuracy:', score[1])"
   ]
  },
  {
   "cell_type": "markdown",
   "metadata": {},
   "source": [
    "## 同樣運算 10 個 epochs，但 CNN 在 test data 的準確率顯著優於 DNN!"
   ]
  },
  {
   "cell_type": "markdown",
   "metadata": {},
   "source": [
    "## 作業\n",
    "1. 請試著調整各個超參數，並說明那些超參數對於結果有明顯的影響?\n",
    "2. CNN 與 DNN 哪個模型的參數數量比較多? 造成參數的數量不同的原因在哪?"
   ]
  },
  {
   "cell_type": "code",
   "execution_count": 12,
   "metadata": {},
   "outputs": [
    {
     "name": "stdout",
     "output_type": "stream",
     "text": [
      "Model: \"sequential_4\"\n",
      "_________________________________________________________________\n",
      "Layer (type)                 Output Shape              Param #   \n",
      "=================================================================\n",
      "conv2d_12 (Conv2D)           (None, 32, 32, 32)        1568      \n",
      "_________________________________________________________________\n",
      "activation_18 (Activation)   (None, 32, 32, 32)        0         \n",
      "_________________________________________________________________\n",
      "conv2d_13 (Conv2D)           (None, 29, 29, 32)        16416     \n",
      "_________________________________________________________________\n",
      "activation_19 (Activation)   (None, 29, 29, 32)        0         \n",
      "_________________________________________________________________\n",
      "max_pooling2d_6 (MaxPooling2 (None, 14, 14, 32)        0         \n",
      "_________________________________________________________________\n",
      "dropout_11 (Dropout)         (None, 14, 14, 32)        0         \n",
      "_________________________________________________________________\n",
      "conv2d_14 (Conv2D)           (None, 14, 14, 64)        18496     \n",
      "_________________________________________________________________\n",
      "activation_20 (Activation)   (None, 14, 14, 64)        0         \n",
      "_________________________________________________________________\n",
      "conv2d_15 (Conv2D)           (None, 12, 12, 64)        36928     \n",
      "_________________________________________________________________\n",
      "activation_21 (Activation)   (None, 12, 12, 64)        0         \n",
      "_________________________________________________________________\n",
      "max_pooling2d_7 (MaxPooling2 (None, 6, 6, 64)          0         \n",
      "_________________________________________________________________\n",
      "dropout_12 (Dropout)         (None, 6, 6, 64)          0         \n",
      "_________________________________________________________________\n",
      "flatten_3 (Flatten)          (None, 2304)              0         \n",
      "_________________________________________________________________\n",
      "dense_9 (Dense)              (None, 1024)              2360320   \n",
      "_________________________________________________________________\n",
      "activation_22 (Activation)   (None, 1024)              0         \n",
      "_________________________________________________________________\n",
      "dropout_13 (Dropout)         (None, 1024)              0         \n",
      "_________________________________________________________________\n",
      "dense_10 (Dense)             (None, 10)                10250     \n",
      "_________________________________________________________________\n",
      "activation_23 (Activation)   (None, 10)                0         \n",
      "=================================================================\n",
      "Total params: 2,443,978\n",
      "Trainable params: 2,443,978\n",
      "Non-trainable params: 0\n",
      "_________________________________________________________________\n",
      "Epoch 1/10\n",
      "391/391 [==============================] - 215s 549ms/step - loss: 1.7541 - accuracy: 0.3638 - val_loss: 1.4533 - val_accuracy: 0.4733\n",
      "Epoch 2/10\n",
      "391/391 [==============================] - 213s 546ms/step - loss: 1.3072 - accuracy: 0.5342 - val_loss: 1.1042 - val_accuracy: 0.6046\n",
      "Epoch 3/10\n",
      "391/391 [==============================] - 215s 549ms/step - loss: 1.0962 - accuracy: 0.6159 - val_loss: 1.1378 - val_accuracy: 0.6157\n",
      "Epoch 4/10\n",
      "391/391 [==============================] - 212s 543ms/step - loss: 0.9612 - accuracy: 0.6640 - val_loss: 0.9500 - val_accuracy: 0.6730\n",
      "Epoch 5/10\n",
      "391/391 [==============================] - 213s 545ms/step - loss: 0.8691 - accuracy: 0.6969 - val_loss: 0.8341 - val_accuracy: 0.7132\n",
      "Epoch 6/10\n",
      "391/391 [==============================] - 213s 544ms/step - loss: 0.7970 - accuracy: 0.7223 - val_loss: 0.8114 - val_accuracy: 0.7188\n",
      "Epoch 7/10\n",
      "391/391 [==============================] - 218s 558ms/step - loss: 0.7496 - accuracy: 0.7399 - val_loss: 0.7970 - val_accuracy: 0.7341\n",
      "Epoch 8/10\n",
      "391/391 [==============================] - 214s 547ms/step - loss: 0.7129 - accuracy: 0.7528 - val_loss: 0.7945 - val_accuracy: 0.7420\n",
      "Epoch 9/10\n",
      "391/391 [==============================] - 213s 544ms/step - loss: 0.6761 - accuracy: 0.7655 - val_loss: 0.9294 - val_accuracy: 0.7189\n",
      "Epoch 10/10\n",
      "391/391 [==============================] - 213s 546ms/step - loss: 0.6500 - accuracy: 0.7772 - val_loss: 0.7781 - val_accuracy: 0.7502\n",
      "Test loss: 0.7780612707138062\n",
      "Test accuracy: 0.7501999735832214\n"
     ]
    }
   ],
   "source": [
    "\n",
    "model = Sequential()\n",
    "model.add(Conv2D(32, (4, 4), padding='same',\n",
    "                 input_shape=x_train.shape[1:]))\n",
    "model.add(Activation('relu'))\n",
    "model.add(Conv2D(32, (4, 4)))\n",
    "model.add(Activation('relu'))\n",
    "model.add(MaxPooling2D(pool_size=(2, 2)))\n",
    "model.add(Dropout(0.25))\n",
    "\n",
    "model.add(Conv2D(64, (3, 3), padding='same'))\n",
    "model.add(Activation('relu'))\n",
    "model.add(Conv2D(64, (3, 3)))\n",
    "model.add(Activation('relu'))\n",
    "model.add(MaxPooling2D(pool_size=(2, 2)))\n",
    "model.add(Dropout(0.25))\n",
    "\n",
    "model.add(Flatten())\n",
    "model.add(Dense(1024))\n",
    "model.add(Activation('relu'))\n",
    "model.add(Dropout(0.5))\n",
    "model.add(Dense(num_classes))\n",
    "model.add(Activation('softmax'))\n",
    "model.summary()\n",
    "\n",
    "model.compile(loss='categorical_crossentropy',\n",
    "              optimizer=RMSprop(),\n",
    "              metrics=['accuracy'])\n",
    "\n",
    "history = model.fit(x_train, y_train,\n",
    "                    batch_size=batch_size,\n",
    "                    epochs=epochs,\n",
    "                    verbose=1,\n",
    "                    validation_data=(x_test, y_test))\n",
    "score = model.evaluate(x_test, y_test, verbose=0)\n",
    "print('Test loss:', score[0])\n",
    "print('Test accuracy:', score[1])"
   ]
  },
  {
   "cell_type": "code",
   "execution_count": null,
   "metadata": {},
   "outputs": [],
   "source": [
    "#DNN模型參數比較多，因為CNN有效利用捲積的特性"
   ]
  }
 ],
 "metadata": {
  "kernelspec": {
   "display_name": "Python 3",
   "language": "python",
   "name": "python3"
  },
  "language_info": {
   "codemirror_mode": {
    "name": "ipython",
    "version": 3
   },
   "file_extension": ".py",
   "mimetype": "text/x-python",
   "name": "python",
   "nbconvert_exporter": "python",
   "pygments_lexer": "ipython3",
   "version": "3.7.6"
  }
 },
 "nbformat": 4,
 "nbformat_minor": 4
}
