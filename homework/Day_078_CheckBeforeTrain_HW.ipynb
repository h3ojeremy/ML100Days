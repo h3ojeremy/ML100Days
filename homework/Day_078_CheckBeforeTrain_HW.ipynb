{
 "cells": [
  {
   "cell_type": "markdown",
   "metadata": {},
   "source": [
    "## Work\n",
    "1. 請嘗試將 preproc_x 替換成以每筆資料的 min/max 進行標準化至 -1 ~ 1 間，再進行訓練\n",
    "2. 請嘗試將 mlp 疊更深 (e.g 5~10 層)，進行訓練後觀察 learning curve 的走勢\n",
    "3. (optional) 請改用 GPU 進行訓練 (如果你有 GPU 的話)，比較使用 CPU 與 GPU 的訓練速度"
   ]
  },
  {
   "cell_type": "code",
   "execution_count": 1,
   "metadata": {},
   "outputs": [
    {
     "data": {
      "text/plain": [
       "'\\nYour code here (optional)\\n確認硬體資源\\n'"
      ]
     },
     "execution_count": 1,
     "metadata": {},
     "output_type": "execute_result"
    }
   ],
   "source": [
    "## \n",
    "\"\"\"\n",
    "Your code here (optional)\n",
    "確認硬體資源\n",
    "\"\"\"\n"
   ]
  },
  {
   "cell_type": "code",
   "execution_count": 3,
   "metadata": {},
   "outputs": [],
   "source": [
    "import os\n",
    "import keras\n",
    "\n",
    "# 請嘗試設定 GPU：os.environ\n",
    "os.environ[\"CUDA_VISIBLE_DEVICES\"] = \"\""
   ]
  },
  {
   "cell_type": "code",
   "execution_count": 4,
   "metadata": {},
   "outputs": [],
   "source": [
    "train, test = keras.datasets.cifar10.load_data()"
   ]
  },
  {
   "cell_type": "code",
   "execution_count": 5,
   "metadata": {},
   "outputs": [],
   "source": [
    "## 資料前處理\n",
    "\"\"\"\n",
    "Your code here\n",
    "\"\"\"\n",
    "def preproc_x(x, flatten=True):\n",
    "    x = x / 255. #變成0~1之間\n",
    "    x = 2*x - 1 #變成-1~1之間\n",
    "    if flatten:\n",
    "        x = x.reshape((len(x), -1))\n",
    "    return x\n",
    "\n",
    "def preproc_y(y, num_classes=10):\n",
    "    if y.shape[-1] == 1:\n",
    "        y = keras.utils.to_categorical(y, num_classes)\n",
    "    return y  \n",
    "\n"
   ]
  },
  {
   "cell_type": "code",
   "execution_count": 6,
   "metadata": {},
   "outputs": [],
   "source": [
    "x_train, y_train = train\n",
    "x_test, y_test = test\n",
    "\n",
    "# Preproc the inputs\n",
    "x_train = preproc_x(x_train)\n",
    "x_test = preproc_x(x_test)\n",
    "\n",
    "# Preprc the outputs\n",
    "y_train = preproc_y(y_train)\n",
    "y_test = preproc_y(y_test)"
   ]
  },
  {
   "cell_type": "code",
   "execution_count": 10,
   "metadata": {},
   "outputs": [
    {
     "name": "stdout",
     "output_type": "stream",
     "text": [
      "Model: \"functional_5\"\n",
      "_________________________________________________________________\n",
      "Layer (type)                 Output Shape              Param #   \n",
      "=================================================================\n",
      "input_3 (InputLayer)         [(None, 3072)]            0         \n",
      "_________________________________________________________________\n",
      "hidden_layer1 (Dense)        (None, 256)               786688    \n",
      "_________________________________________________________________\n",
      "hidden_layer2 (Dense)        (None, 256)               65792     \n",
      "_________________________________________________________________\n",
      "hidden_layer3 (Dense)        (None, 256)               65792     \n",
      "_________________________________________________________________\n",
      "hidden_layer4 (Dense)        (None, 128)               32896     \n",
      "_________________________________________________________________\n",
      "hidden_layer5 (Dense)        (None, 128)               16512     \n",
      "_________________________________________________________________\n",
      "hidden_layer6 (Dense)        (None, 128)               16512     \n",
      "_________________________________________________________________\n",
      "hidden_layer7 (Dense)        (None, 512)               66048     \n",
      "_________________________________________________________________\n",
      "hidden_layer8 (Dense)        (None, 512)               262656    \n",
      "_________________________________________________________________\n",
      "output (Dense)               (None, 10)                5130      \n",
      "=================================================================\n",
      "Total params: 1,318,026\n",
      "Trainable params: 1,318,026\n",
      "Non-trainable params: 0\n",
      "_________________________________________________________________\n"
     ]
    }
   ],
   "source": [
    "\"\"\"Code Here\n",
    "建立你的神經網路\n",
    "\"\"\"\n",
    "def build_mlp(input_shape, output_units=10, num_neurons=[512, 256, 128]):\n",
    "    input_layer = keras.layers.Input(input_shape)\n",
    "    \n",
    "    for i, n_units in enumerate(num_neurons):\n",
    "        if i == 0:\n",
    "            x = keras.layers.Dense(units=n_units, activation=\"relu\", name=\"hidden_layer\"+str(i+1))(input_layer)\n",
    "        else:\n",
    "            x = keras.layers.Dense(units=n_units, activation=\"relu\", name=\"hidden_layer\"+str(i+1))(x)\n",
    "    \n",
    "    out = keras.layers.Dense(units=output_units, activation=\"softmax\", name=\"output\")(x)\n",
    "    \n",
    "    model = keras.models.Model(inputs=[input_layer], outputs=[out])\n",
    "    return model\n",
    "num_neurons = [256, 256, 256, 128, 128, 128, 512, 512]\n",
    "model = build_mlp(input_shape=x_train.shape[1:], num_neurons=num_neurons)\n",
    "model.summary()"
   ]
  },
  {
   "cell_type": "code",
   "execution_count": 11,
   "metadata": {},
   "outputs": [],
   "source": [
    "## 超參數設定\n",
    "LEARNING_RATE = 0.001\n",
    "EPOCHS = 100\n",
    "BATCH_SIZE = 256"
   ]
  },
  {
   "cell_type": "code",
   "execution_count": 12,
   "metadata": {},
   "outputs": [],
   "source": [
    "optimizer = keras.optimizers.Adam(lr=LEARNING_RATE)\n",
    "model.compile(loss=\"categorical_crossentropy\", metrics=[\"accuracy\"], optimizer=optimizer)"
   ]
  },
  {
   "cell_type": "code",
   "execution_count": 13,
   "metadata": {},
   "outputs": [
    {
     "name": "stdout",
     "output_type": "stream",
     "text": [
      "Epoch 1/100\n",
      "196/196 [==============================] - 8s 41ms/step - loss: 1.7285 - accuracy: 0.3786 - val_loss: 1.5402 - val_accuracy: 0.4509\n",
      "Epoch 2/100\n",
      "196/196 [==============================] - 8s 41ms/step - loss: 1.4846 - accuracy: 0.4733 - val_loss: 1.4647 - val_accuracy: 0.4781\n",
      "Epoch 3/100\n",
      "196/196 [==============================] - 7s 38ms/step - loss: 1.3654 - accuracy: 0.5163 - val_loss: 1.4142 - val_accuracy: 0.4977\n",
      "Epoch 4/100\n",
      "196/196 [==============================] - 7s 38ms/step - loss: 1.2754 - accuracy: 0.5470 - val_loss: 1.3946 - val_accuracy: 0.5009\n",
      "Epoch 5/100\n",
      "196/196 [==============================] - 7s 38ms/step - loss: 1.1947 - accuracy: 0.5779 - val_loss: 1.3562 - val_accuracy: 0.5263\n",
      "Epoch 6/100\n",
      "196/196 [==============================] - 7s 37ms/step - loss: 1.1278 - accuracy: 0.6009 - val_loss: 1.3486 - val_accuracy: 0.5316\n",
      "Epoch 7/100\n",
      "196/196 [==============================] - 8s 40ms/step - loss: 1.0637 - accuracy: 0.6225 - val_loss: 1.3505 - val_accuracy: 0.5269\n",
      "Epoch 8/100\n",
      "196/196 [==============================] - 8s 40ms/step - loss: 1.0037 - accuracy: 0.6429 - val_loss: 1.3674 - val_accuracy: 0.5350\n",
      "Epoch 9/100\n",
      "196/196 [==============================] - 8s 40ms/step - loss: 0.9346 - accuracy: 0.6666 - val_loss: 1.3863 - val_accuracy: 0.5401\n",
      "Epoch 10/100\n",
      "196/196 [==============================] - 8s 40ms/step - loss: 0.8764 - accuracy: 0.6893 - val_loss: 1.4342 - val_accuracy: 0.5331\n",
      "Epoch 11/100\n",
      "196/196 [==============================] - 8s 40ms/step - loss: 0.8224 - accuracy: 0.7090 - val_loss: 1.5331 - val_accuracy: 0.5238\n",
      "Epoch 12/100\n",
      "196/196 [==============================] - 8s 40ms/step - loss: 0.7790 - accuracy: 0.7224 - val_loss: 1.5045 - val_accuracy: 0.5263\n",
      "Epoch 13/100\n",
      "196/196 [==============================] - 8s 40ms/step - loss: 0.7234 - accuracy: 0.7426 - val_loss: 1.5442 - val_accuracy: 0.5314\n",
      "Epoch 14/100\n",
      "196/196 [==============================] - 8s 41ms/step - loss: 0.6691 - accuracy: 0.7643 - val_loss: 1.6166 - val_accuracy: 0.5263\n",
      "Epoch 15/100\n",
      "196/196 [==============================] - 9s 45ms/step - loss: 0.6225 - accuracy: 0.7800 - val_loss: 1.6450 - val_accuracy: 0.5293\n",
      "Epoch 16/100\n",
      "196/196 [==============================] - 8s 42ms/step - loss: 0.5762 - accuracy: 0.7945 - val_loss: 1.8004 - val_accuracy: 0.5309\n",
      "Epoch 17/100\n",
      "196/196 [==============================] - 8s 40ms/step - loss: 0.5478 - accuracy: 0.8053 - val_loss: 1.8277 - val_accuracy: 0.5233\n",
      "Epoch 18/100\n",
      "196/196 [==============================] - 8s 43ms/step - loss: 0.5074 - accuracy: 0.8216 - val_loss: 1.8034 - val_accuracy: 0.5272\n",
      "Epoch 19/100\n",
      "196/196 [==============================] - 8s 40ms/step - loss: 0.4756 - accuracy: 0.8313 - val_loss: 1.8411 - val_accuracy: 0.5330\n",
      "Epoch 20/100\n",
      "196/196 [==============================] - 8s 40ms/step - loss: 0.4519 - accuracy: 0.8418 - val_loss: 1.9678 - val_accuracy: 0.5266\n",
      "Epoch 21/100\n",
      "196/196 [==============================] - 8s 38ms/step - loss: 0.4163 - accuracy: 0.8516 - val_loss: 2.1369 - val_accuracy: 0.5243\n",
      "Epoch 22/100\n",
      "196/196 [==============================] - 7s 37ms/step - loss: 0.3905 - accuracy: 0.8639 - val_loss: 2.1326 - val_accuracy: 0.5277\n",
      "Epoch 23/100\n",
      "196/196 [==============================] - 7s 37ms/step - loss: 0.3586 - accuracy: 0.8739 - val_loss: 2.2511 - val_accuracy: 0.5259\n",
      "Epoch 24/100\n",
      "196/196 [==============================] - 7s 37ms/step - loss: 0.3503 - accuracy: 0.8771 - val_loss: 2.2094 - val_accuracy: 0.5187\n",
      "Epoch 25/100\n",
      "196/196 [==============================] - 7s 35ms/step - loss: 0.3258 - accuracy: 0.8864 - val_loss: 2.3322 - val_accuracy: 0.5212\n",
      "Epoch 26/100\n",
      "196/196 [==============================] - 7s 37ms/step - loss: 0.3102 - accuracy: 0.8917 - val_loss: 2.3053 - val_accuracy: 0.5242\n",
      "Epoch 27/100\n",
      "196/196 [==============================] - 7s 36ms/step - loss: 0.2877 - accuracy: 0.8997 - val_loss: 2.4868 - val_accuracy: 0.5227\n",
      "Epoch 28/100\n",
      "196/196 [==============================] - 7s 37ms/step - loss: 0.2757 - accuracy: 0.9042 - val_loss: 2.3213 - val_accuracy: 0.5288\n",
      "Epoch 29/100\n",
      "196/196 [==============================] - 7s 36ms/step - loss: 0.2535 - accuracy: 0.9122 - val_loss: 2.5248 - val_accuracy: 0.5247\n",
      "Epoch 30/100\n",
      "196/196 [==============================] - 7s 36ms/step - loss: 0.2469 - accuracy: 0.9147 - val_loss: 2.5492 - val_accuracy: 0.5232\n",
      "Epoch 31/100\n",
      "196/196 [==============================] - 7s 37ms/step - loss: 0.2300 - accuracy: 0.9201 - val_loss: 2.6910 - val_accuracy: 0.5215\n",
      "Epoch 32/100\n",
      "196/196 [==============================] - 7s 36ms/step - loss: 0.2267 - accuracy: 0.9220 - val_loss: 2.8207 - val_accuracy: 0.5264\n",
      "Epoch 33/100\n",
      "196/196 [==============================] - 7s 36ms/step - loss: 0.2250 - accuracy: 0.9206 - val_loss: 2.5649 - val_accuracy: 0.5236\n",
      "Epoch 34/100\n",
      "196/196 [==============================] - 7s 36ms/step - loss: 0.2051 - accuracy: 0.9296 - val_loss: 2.8154 - val_accuracy: 0.5231\n",
      "Epoch 35/100\n",
      "196/196 [==============================] - 7s 37ms/step - loss: 0.2015 - accuracy: 0.9306 - val_loss: 2.8640 - val_accuracy: 0.5233\n",
      "Epoch 36/100\n",
      "196/196 [==============================] - 7s 36ms/step - loss: 0.1911 - accuracy: 0.9334 - val_loss: 2.9251 - val_accuracy: 0.5220\n",
      "Epoch 37/100\n",
      "196/196 [==============================] - 7s 38ms/step - loss: 0.1877 - accuracy: 0.9352 - val_loss: 2.8328 - val_accuracy: 0.5162\n",
      "Epoch 38/100\n",
      "196/196 [==============================] - 7s 36ms/step - loss: 0.1721 - accuracy: 0.9417 - val_loss: 2.8771 - val_accuracy: 0.5107\n",
      "Epoch 39/100\n",
      "196/196 [==============================] - 7s 37ms/step - loss: 0.1749 - accuracy: 0.9396 - val_loss: 2.9137 - val_accuracy: 0.5233\n",
      "Epoch 40/100\n",
      "196/196 [==============================] - 7s 36ms/step - loss: 0.1761 - accuracy: 0.9400 - val_loss: 2.9159 - val_accuracy: 0.5138\n",
      "Epoch 41/100\n",
      "196/196 [==============================] - 7s 36ms/step - loss: 0.1625 - accuracy: 0.9445 - val_loss: 2.7191 - val_accuracy: 0.5226\n",
      "Epoch 42/100\n",
      "196/196 [==============================] - 7s 37ms/step - loss: 0.1585 - accuracy: 0.9462 - val_loss: 2.9295 - val_accuracy: 0.5202\n",
      "Epoch 43/100\n",
      "196/196 [==============================] - 7s 36ms/step - loss: 0.1520 - accuracy: 0.9487 - val_loss: 3.0514 - val_accuracy: 0.5169\n",
      "Epoch 44/100\n",
      "196/196 [==============================] - 7s 36ms/step - loss: 0.1573 - accuracy: 0.9457 - val_loss: 2.8390 - val_accuracy: 0.5216\n",
      "Epoch 45/100\n",
      "196/196 [==============================] - 7s 36ms/step - loss: 0.1419 - accuracy: 0.9518 - val_loss: 2.8734 - val_accuracy: 0.5247\n",
      "Epoch 46/100\n",
      "196/196 [==============================] - 7s 38ms/step - loss: 0.1464 - accuracy: 0.9513 - val_loss: 3.0226 - val_accuracy: 0.5257\n",
      "Epoch 47/100\n",
      "196/196 [==============================] - 7s 36ms/step - loss: 0.1480 - accuracy: 0.9497 - val_loss: 3.1168 - val_accuracy: 0.5181\n",
      "Epoch 48/100\n",
      "196/196 [==============================] - 7s 37ms/step - loss: 0.1362 - accuracy: 0.9544 - val_loss: 3.1190 - val_accuracy: 0.5197\n",
      "Epoch 49/100\n",
      "196/196 [==============================] - 7s 36ms/step - loss: 0.1361 - accuracy: 0.9541 - val_loss: 3.1958 - val_accuracy: 0.5229\n",
      "Epoch 50/100\n",
      "196/196 [==============================] - 7s 37ms/step - loss: 0.1350 - accuracy: 0.9541 - val_loss: 3.0755 - val_accuracy: 0.5214\n",
      "Epoch 51/100\n",
      "196/196 [==============================] - 7s 36ms/step - loss: 0.1323 - accuracy: 0.9556 - val_loss: 3.1151 - val_accuracy: 0.5236\n",
      "Epoch 52/100\n",
      "196/196 [==============================] - 7s 36ms/step - loss: 0.1298 - accuracy: 0.9566 - val_loss: 3.1731 - val_accuracy: 0.5254\n",
      "Epoch 53/100\n",
      "196/196 [==============================] - 7s 37ms/step - loss: 0.1222 - accuracy: 0.9585 - val_loss: 3.1923 - val_accuracy: 0.5239\n",
      "Epoch 54/100\n",
      "196/196 [==============================] - 7s 38ms/step - loss: 0.1324 - accuracy: 0.9557 - val_loss: 3.1746 - val_accuracy: 0.5204\n",
      "Epoch 55/100\n",
      "196/196 [==============================] - 7s 37ms/step - loss: 0.1244 - accuracy: 0.9583 - val_loss: 3.2544 - val_accuracy: 0.5207\n",
      "Epoch 56/100\n",
      "196/196 [==============================] - 7s 37ms/step - loss: 0.1277 - accuracy: 0.9574 - val_loss: 3.3971 - val_accuracy: 0.5210\n",
      "Epoch 57/100\n",
      "196/196 [==============================] - 7s 37ms/step - loss: 0.1155 - accuracy: 0.9612 - val_loss: 3.3379 - val_accuracy: 0.5164\n",
      "Epoch 58/100\n",
      "196/196 [==============================] - 7s 36ms/step - loss: 0.1245 - accuracy: 0.9582 - val_loss: 3.3538 - val_accuracy: 0.5192\n",
      "Epoch 59/100\n",
      "196/196 [==============================] - 7s 37ms/step - loss: 0.1244 - accuracy: 0.9585 - val_loss: 3.2470 - val_accuracy: 0.5200\n",
      "Epoch 60/100\n",
      "196/196 [==============================] - 7s 36ms/step - loss: 0.1173 - accuracy: 0.9600 - val_loss: 3.0847 - val_accuracy: 0.5195\n",
      "Epoch 61/100\n",
      "196/196 [==============================] - 7s 36ms/step - loss: 0.1073 - accuracy: 0.9637 - val_loss: 3.1509 - val_accuracy: 0.5276\n",
      "Epoch 62/100\n",
      "196/196 [==============================] - 7s 37ms/step - loss: 0.1035 - accuracy: 0.9648 - val_loss: 3.2067 - val_accuracy: 0.5191\n",
      "Epoch 63/100\n",
      "196/196 [==============================] - 7s 37ms/step - loss: 0.1159 - accuracy: 0.9611 - val_loss: 3.1634 - val_accuracy: 0.5216\n",
      "Epoch 64/100\n",
      "196/196 [==============================] - 8s 38ms/step - loss: 0.1035 - accuracy: 0.9659 - val_loss: 3.5594 - val_accuracy: 0.5191\n",
      "Epoch 65/100\n",
      "196/196 [==============================] - 7s 36ms/step - loss: 0.1018 - accuracy: 0.9664 - val_loss: 3.6485 - val_accuracy: 0.5226\n",
      "Epoch 66/100\n",
      "196/196 [==============================] - 7s 37ms/step - loss: 0.0931 - accuracy: 0.9687 - val_loss: 3.5331 - val_accuracy: 0.5229\n",
      "Epoch 67/100\n",
      "196/196 [==============================] - 7s 36ms/step - loss: 0.1063 - accuracy: 0.9645 - val_loss: 3.2910 - val_accuracy: 0.5232\n",
      "Epoch 68/100\n",
      "196/196 [==============================] - 7s 37ms/step - loss: 0.0946 - accuracy: 0.9687 - val_loss: 3.4836 - val_accuracy: 0.5216\n",
      "Epoch 69/100\n",
      "196/196 [==============================] - 7s 36ms/step - loss: 0.1009 - accuracy: 0.9666 - val_loss: 3.2157 - val_accuracy: 0.5230\n",
      "Epoch 70/100\n",
      "196/196 [==============================] - 7s 37ms/step - loss: 0.1060 - accuracy: 0.9647 - val_loss: 3.4246 - val_accuracy: 0.5219\n",
      "Epoch 71/100\n",
      "196/196 [==============================] - 7s 37ms/step - loss: 0.0953 - accuracy: 0.9687 - val_loss: 3.6910 - val_accuracy: 0.5177\n",
      "Epoch 72/100\n",
      "196/196 [==============================] - 7s 37ms/step - loss: 0.0857 - accuracy: 0.9717 - val_loss: 3.3914 - val_accuracy: 0.5233\n",
      "Epoch 73/100\n",
      "196/196 [==============================] - 7s 37ms/step - loss: 0.0894 - accuracy: 0.9712 - val_loss: 3.4847 - val_accuracy: 0.5222\n",
      "Epoch 74/100\n",
      "196/196 [==============================] - 7s 37ms/step - loss: 0.0868 - accuracy: 0.9708 - val_loss: 3.5380 - val_accuracy: 0.5291\n",
      "Epoch 75/100\n",
      "196/196 [==============================] - 7s 37ms/step - loss: 0.0863 - accuracy: 0.9710 - val_loss: 3.4627 - val_accuracy: 0.5180\n",
      "Epoch 76/100\n",
      "196/196 [==============================] - 7s 36ms/step - loss: 0.0865 - accuracy: 0.9718 - val_loss: 3.4605 - val_accuracy: 0.5259\n",
      "Epoch 77/100\n",
      "196/196 [==============================] - 7s 37ms/step - loss: 0.0893 - accuracy: 0.9712 - val_loss: 3.5750 - val_accuracy: 0.5225\n",
      "Epoch 78/100\n",
      "196/196 [==============================] - 7s 36ms/step - loss: 0.0879 - accuracy: 0.9711 - val_loss: 3.4489 - val_accuracy: 0.5114\n",
      "Epoch 79/100\n",
      "196/196 [==============================] - 7s 37ms/step - loss: 0.0938 - accuracy: 0.9683 - val_loss: 3.3830 - val_accuracy: 0.5268\n",
      "Epoch 80/100\n",
      "196/196 [==============================] - 7s 36ms/step - loss: 0.0901 - accuracy: 0.9708 - val_loss: 3.3253 - val_accuracy: 0.5185\n",
      "Epoch 81/100\n",
      "196/196 [==============================] - 7s 38ms/step - loss: 0.0944 - accuracy: 0.9689 - val_loss: 3.4105 - val_accuracy: 0.5300\n",
      "Epoch 82/100\n",
      "196/196 [==============================] - 8s 42ms/step - loss: 0.0932 - accuracy: 0.9688 - val_loss: 3.4490 - val_accuracy: 0.5218\n",
      "Epoch 83/100\n",
      "196/196 [==============================] - 7s 37ms/step - loss: 0.0847 - accuracy: 0.9732 - val_loss: 3.4555 - val_accuracy: 0.5245\n",
      "Epoch 84/100\n",
      "196/196 [==============================] - 7s 36ms/step - loss: 0.0809 - accuracy: 0.9737 - val_loss: 3.5782 - val_accuracy: 0.5222\n",
      "Epoch 85/100\n",
      "196/196 [==============================] - 7s 36ms/step - loss: 0.0881 - accuracy: 0.9712 - val_loss: 3.3239 - val_accuracy: 0.5282\n",
      "Epoch 86/100\n",
      "196/196 [==============================] - 7s 37ms/step - loss: 0.0836 - accuracy: 0.9726 - val_loss: 3.4646 - val_accuracy: 0.5213\n",
      "Epoch 87/100\n",
      "196/196 [==============================] - 7s 36ms/step - loss: 0.0745 - accuracy: 0.9753 - val_loss: 3.7613 - val_accuracy: 0.5185\n",
      "Epoch 88/100\n",
      "196/196 [==============================] - 7s 37ms/step - loss: 0.0753 - accuracy: 0.9758 - val_loss: 3.8922 - val_accuracy: 0.5306\n",
      "Epoch 89/100\n",
      "196/196 [==============================] - 7s 37ms/step - loss: 0.0841 - accuracy: 0.9724 - val_loss: 3.4624 - val_accuracy: 0.5299\n",
      "Epoch 90/100\n",
      "196/196 [==============================] - 7s 37ms/step - loss: 0.0770 - accuracy: 0.9757 - val_loss: 3.3516 - val_accuracy: 0.5266\n",
      "Epoch 91/100\n",
      "196/196 [==============================] - 7s 37ms/step - loss: 0.0816 - accuracy: 0.9736 - val_loss: 3.5934 - val_accuracy: 0.5253\n",
      "Epoch 92/100\n",
      "196/196 [==============================] - 7s 37ms/step - loss: 0.0761 - accuracy: 0.9757 - val_loss: 3.7060 - val_accuracy: 0.5283\n",
      "Epoch 93/100\n",
      "196/196 [==============================] - 7s 36ms/step - loss: 0.0751 - accuracy: 0.9753 - val_loss: 3.8414 - val_accuracy: 0.5298\n",
      "Epoch 94/100\n",
      "196/196 [==============================] - 7s 37ms/step - loss: 0.0805 - accuracy: 0.9747 - val_loss: 3.7342 - val_accuracy: 0.5198\n",
      "Epoch 95/100\n",
      "196/196 [==============================] - 7s 37ms/step - loss: 0.0767 - accuracy: 0.9757 - val_loss: 3.3484 - val_accuracy: 0.5220\n",
      "Epoch 96/100\n",
      "196/196 [==============================] - 7s 36ms/step - loss: 0.0705 - accuracy: 0.9773 - val_loss: 3.3357 - val_accuracy: 0.5214\n",
      "Epoch 97/100\n",
      "196/196 [==============================] - 7s 37ms/step - loss: 0.0828 - accuracy: 0.9730 - val_loss: 3.5934 - val_accuracy: 0.5331\n",
      "Epoch 98/100\n",
      "196/196 [==============================] - 7s 36ms/step - loss: 0.0784 - accuracy: 0.9745 - val_loss: 3.5049 - val_accuracy: 0.5272\n",
      "Epoch 99/100\n",
      "196/196 [==============================] - 7s 37ms/step - loss: 0.0737 - accuracy: 0.9765 - val_loss: 3.5081 - val_accuracy: 0.5228\n",
      "Epoch 100/100\n",
      "196/196 [==============================] - 7s 36ms/step - loss: 0.0746 - accuracy: 0.9764 - val_loss: 3.3431 - val_accuracy: 0.5276\n"
     ]
    },
    {
     "data": {
      "text/plain": [
       "<tensorflow.python.keras.callbacks.History at 0x22705759408>"
      ]
     },
     "execution_count": 13,
     "metadata": {},
     "output_type": "execute_result"
    }
   ],
   "source": [
    "model.fit(x_train, y_train, \n",
    "          epochs=EPOCHS, \n",
    "          batch_size=BATCH_SIZE, \n",
    "          validation_data=(x_test, y_test), \n",
    "          shuffle=True)"
   ]
  },
  {
   "cell_type": "code",
   "execution_count": 14,
   "metadata": {},
   "outputs": [
    {
     "data": {
      "image/png": "[encoded data removed]",
      "text/plain": [
       "<Figure size 432x288 with 1 Axes>"
      ]
     },
     "metadata": {
      "needs_background": "light"
     },
     "output_type": "display_data"
    },
    {
     "data": {
      "image/png": "[encoded data removed]",
      "text/plain": [
       "<Figure size 432x288 with 1 Axes>"
      ]
     },
     "metadata": {
      "needs_background": "light"
     },
     "output_type": "display_data"
    }
   ],
   "source": [
    "import matplotlib.pyplot as plt\n",
    "\n",
    "\n",
    "train_loss = model.history.history[\"loss\"]\n",
    "valid_loss = model.history.history[\"val_loss\"]\n",
    "\n",
    "train_acc = model.history.history[\"accuracy\"]\n",
    "valid_acc = model.history.history[\"val_accuracy\"]\n",
    "\n",
    "plt.plot(range(len(train_loss)), train_loss, label=\"train loss\")\n",
    "plt.plot(range(len(valid_loss)), valid_loss, label=\"valid loss\")\n",
    "plt.legend()\n",
    "plt.title(\"Loss\")\n",
    "plt.show()\n",
    "\n",
    "plt.plot(range(len(train_acc)), train_acc, label=\"train accuracy\")\n",
    "plt.plot(range(len(valid_acc)), valid_acc, label=\"valid accuracy\")\n",
    "plt.legend()\n",
    "plt.title(\"Accuracy\")\n",
    "plt.show()"
   ]
  },
  {
   "cell_type": "code",
   "execution_count": null,
   "metadata": {},
   "outputs": [],
   "source": []
  }
 ],
 "metadata": {
  "kernelspec": {
   "display_name": "Python 3",
   "language": "python",
   "name": "python3"
  },
  "language_info": {
   "codemirror_mode": {
    "name": "ipython",
    "version": 3
   },
   "file_extension": ".py",
   "mimetype": "text/x-python",
   "name": "python",
   "nbconvert_exporter": "python",
   "pygments_lexer": "ipython3",
   "version": "3.7.6"
  }
 },
 "nbformat": 4,
 "nbformat_minor": 4
}
