{
 "cells": [
  {
   "cell_type": "markdown",
   "metadata": {},
   "source": [
    "# 作業\n",
    "* 在精簡深度學習的方式上 : 卷積類神經 (CNN) 採用像素遠近，而遞歸類神經 (RNN) 採用著則是時間遠近\n",
    "* 那麼，既然有著類似的設計精神，兩者是否有可能互換應用呢?"
   ]
  },
  {
   "cell_type": "code",
   "execution_count": null,
   "metadata": {
    "collapsed": true,
    "jupyter": {
     "outputs_hidden": true
    }
   },
   "outputs": [],
   "source": [
    "# 可以\n",
    "#CNN用於特徵提取 (識別圖片內出現的物件)\n",
    "#RNN用於語句生成圖片標註(依造物件元素產生語句描述)\n",
    "\n",
    "#相同點：\n",
    "#傳統神經網絡的擴展。\n",
    "#前向計算產生結果，反向計算模型更新。\n",
    "#每層神經網絡橫向可以多個神經元共存,縱向可以有多層神經網絡連接。\n",
    "\n",
    "#不同點\n",
    "# CNN空間擴展，神經元與特征卷積；RNN時間擴展，神經元與多個時間輸出計算\n",
    "#RNN可以用於描述時間上連續狀態的輸出，有記憶功能，CNN用於靜態輸出\n",
    "# CNN高級100+深度，RNN深度有限\n",
    "\n",
    "# CNN與RNN互換應用的可能：\n",
    "# CNN 特征提取，用於RNN語句生成圖片標註\n",
    "# RNN特征提取用於CNN內容分類視頻分類\n",
    "# CNN特征提取用於對話問答圖片問答"
   ]
  }
 ],
 "metadata": {
  "kernelspec": {
   "display_name": "Python 3",
   "language": "python",
   "name": "python3"
  },
  "language_info": {
   "codemirror_mode": {
    "name": "ipython",
    "version": 3
   },
   "file_extension": ".py",
   "mimetype": "text/x-python",
   "name": "python",
   "nbconvert_exporter": "python",
   "pygments_lexer": "ipython3",
   "version": "3.7.6"
  }
 },
 "nbformat": 4,
 "nbformat_minor": 4
}
